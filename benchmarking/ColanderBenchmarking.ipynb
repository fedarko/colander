{
 "cells": [
  {
   "cell_type": "markdown",
   "metadata": {},
   "source": [
    "# Colander Benchmarking"
   ]
  },
  {
   "cell_type": "markdown",
   "metadata": {},
   "source": [
    "## 1. Generate mock data using Colander's utility code"
   ]
  },
  {
   "cell_type": "code",
   "execution_count": 1,
   "metadata": {},
   "outputs": [],
   "source": [
    "from colander.mock_data_generation.utils import *"
   ]
  },
  {
   "cell_type": "markdown",
   "metadata": {},
   "source": [
    "### 1.1. Generate a random \"starting genome\"\n",
    "\n",
    "Of course, genomes in practice are not random sequences of nucleotides -- as chapter 1 of Compeau and Pevzner shows, factors like G/C skew and repetitive regions are examples of nonrandomness in real genomes. This gives us reason to doubt the efficacy of modeling genomes completely randomly, as we do here.\n",
    "\n",
    "That being said, we have to start somewhere."
   ]
  },
  {
   "cell_type": "code",
   "execution_count": 2,
   "metadata": {},
   "outputs": [
    {
     "data": {
      "text/plain": [
       "'CACGCGCCATGGAGTGGTTTCCAGATCTACTACTTCCGACACGTACGAGTATTGGATAGGTACGCCCTCGGGGTCGCCCAAGGACTGGAAGCTACCCATTTAACGGGTGGTGTATGGCCGTGCATTCCTGAACCTCACCTGGCGGACTGACTCTCCTTACCTTCAGCTGCAGTCTTACCATTGGTAGATTGAAAAAATTAGCTGAGAGCCTCGCCGAGGGCGCTGTACTGTAGGATTAACAATTTCAGAGACGTTCTCTTACTAGGGCTGTCGAGGATATTTGCGCACCGACTTTGTTAGGATTATCTGAAATCCTATAGACATGGCGGCTTATGAGCGGCGAAAACTCTTGCACTCACGCTTTTGGATCTGATAAGTCCGTGCGCCTTGTGATTTACGTCCCGCTGCTTTTTGGTTGAGTCTCTGGGACAACTTAGATTGCCAGGCGGGTTGTTAGCTCTTGCCTTTGTCTAGTTATCAATCGGGGTGTCCGCTGATGT'"
      ]
     },
     "execution_count": 2,
     "metadata": {},
     "output_type": "execute_result"
    }
   ],
   "source": [
    "genome = generate_random_sequence(500)\n",
    "genome"
   ]
  },
  {
   "cell_type": "markdown",
   "metadata": {},
   "source": [
    "### 1.2. Generate strains by randomly adding mutations to this genome"
   ]
  },
  {
   "cell_type": "code",
   "execution_count": 3,
   "metadata": {},
   "outputs": [],
   "source": [
    "# Define hypervariable regions in the genome: these will undergo more mutations\n",
    "hv_regions = [(100, 150), (200, 250), (300, 350)]\n",
    "\n",
    "# What are the \"coverages\" of each strain in the metagenome sequence data?\n",
    "strain_coverages = [1, 3, 5]\n",
    "\n",
    "strains = generate_strains_from_genome(\n",
    "    genome,\n",
    "    strain_coverages,\n",
    "    hv_regions,\n",
    "    hypervariable_mutation_probability=0.05,\n",
    "    normal_mutation_probability=0.01\n",
    ")"
   ]
  },
  {
   "cell_type": "code",
   "execution_count": 4,
   "metadata": {},
   "outputs": [
    {
     "name": "stdout",
     "output_type": "stream",
     "text": [
      "497 1\n",
      "498 3\n",
      "497 5\n"
     ]
    }
   ],
   "source": [
    "for s in strains:\n",
    "    print(len(s.seq), s.coverage)"
   ]
  },
  {
   "cell_type": "markdown",
   "metadata": {},
   "source": [
    "### 1.3. Shear the strain genomes into k-mers and create a de Bruijn graph from all k-mers\n",
    "We use k = 15 here, but this is of course configurable."
   ]
  },
  {
   "cell_type": "code",
   "execution_count": 5,
   "metadata": {},
   "outputs": [
    {
     "name": "stdout",
     "output_type": "stream",
     "text": [
      "Three arbitrary k-mers: ['CCACGCGCCATGAGT', 'CACGCGCCATGAGTG', 'ACGCGCCATGAGTGG']\n",
      "4350\n"
     ]
    }
   ],
   "source": [
    "kmers = []\n",
    "for s in strains:\n",
    "    kmers += shear_into_kmers(s.seq, s.coverage, 15)\n",
    "print(\"Three arbitrary k-mers: {}\".format(kmers[:3]))\n",
    "print(len(kmers))\n",
    "\n",
    "import networkx as nx\n",
    "g = make_debruijn_graph(kmers)\n",
    "nx.drawing.nx_agraph.write_dot(g, \"dbg_k15.gv\")"
   ]
  },
  {
   "cell_type": "code",
   "execution_count": null,
   "metadata": {},
   "outputs": [],
   "source": []
  }
 ],
 "metadata": {
  "kernelspec": {
   "display_name": "Python 3",
   "language": "python",
   "name": "python3"
  },
  "language_info": {
   "codemirror_mode": {
    "name": "ipython",
    "version": 3
   },
   "file_extension": ".py",
   "mimetype": "text/x-python",
   "name": "python",
   "nbconvert_exporter": "python",
   "pygments_lexer": "ipython3",
   "version": "3.6.10"
  }
 },
 "nbformat": 4,
 "nbformat_minor": 2
}
