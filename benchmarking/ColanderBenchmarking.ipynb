{
 "cells": [
  {
   "cell_type": "markdown",
   "metadata": {},
   "source": [
    "# Colander Benchmarking"
   ]
  },
  {
   "cell_type": "markdown",
   "metadata": {},
   "source": [
    "## 1. Generate mock data using Colander's utility code"
   ]
  },
  {
   "cell_type": "code",
   "execution_count": 22,
   "metadata": {},
   "outputs": [],
   "source": [
    "from colander.mock_data_generation.utils import generate_random_sequence, generate_strains_from_genome"
   ]
  },
  {
   "cell_type": "markdown",
   "metadata": {},
   "source": [
    "### 1.1. Generate a random \"starting genome\"\n",
    "\n",
    "Of course, genomes in practice are not random sequences of nucleotides -- as chapter 1 of Compeau and Pevzner shows, factors like G/C skew and repetitive regions are examples of nonrandomness in real genomes. This gives us reason to doubt the efficacy of modeling genomes completely randomly, as we do here.\n",
    "\n",
    "That being said, we have to start somewhere."
   ]
  },
  {
   "cell_type": "code",
   "execution_count": 23,
   "metadata": {},
   "outputs": [
    {
     "data": {
      "text/plain": [
       "'ATTCAATAATCCCCGTGTGTAGCACAGTGCCTGACACAAGCAAAGTCGGCGGTTAAAACACCATTTACAAGCATTGAATGTGGCAAGAGGAGGGACTCCCCTCTTAAAGACGGATGCAGATCGTAGTGGCATATGCGACTTAACATCATATCCGATACTCCACTCCGGAAAGGATAGGTCGCTTTATTCCTTTGGTCAGGCCCCGAGCAATTCGCAAGAGGAATAGCCATTGCCCTATAAAAATAGTCTGAGAATACATAGAACGCGTCGCCATTCGTGCAGCTGTGTAAGGCGGAACACGGATATTTCGGGACGTCTTTCTATGTAATATAATTGTTTTATGTGGACTGATTTCTCCCGAAGCCAAGAAGCAAATTAATTCCGATGTAAGTATAAGACTACCTAAGTCATAGCTAAAGTTGGTGGGTCCCAGGCACGCATTGATCAGGCCGGAAAGACCTCCTAACGGAAAATGGAAGACGTTTCATAATACTGTCCGT'"
      ]
     },
     "execution_count": 23,
     "metadata": {},
     "output_type": "execute_result"
    }
   ],
   "source": [
    "genome = generate_random_sequence(500)\n",
    "genome"
   ]
  },
  {
   "cell_type": "markdown",
   "metadata": {},
   "source": [
    "### 1.2. Generate strains by randomly adding mutations to this genome"
   ]
  },
  {
   "cell_type": "code",
   "execution_count": 24,
   "metadata": {},
   "outputs": [],
   "source": [
    "# Define hypervariable regions in the genome: these will undergo more mutations\n",
    "hv_regions = [(100, 150), (200, 250), (300, 350)]\n",
    "\n",
    "# What are the \"coverages\" of each strain in the metagenome sequence data?\n",
    "strain_coverages = [10, 5, 5, 3, 6, 4]\n",
    "\n",
    "strains = generate_strains_from_genome(\n",
    "    genome,\n",
    "    strain_coverages,\n",
    "    hv_regions,\n",
    "    hypervariable_mutation_probability=0.5,\n",
    "    normal_mutation_probability=0.01\n",
    ")"
   ]
  },
  {
   "cell_type": "code",
   "execution_count": 25,
   "metadata": {},
   "outputs": [
    {
     "name": "stdout",
     "output_type": "stream",
     "text": [
      "492 10\n",
      "514 5\n",
      "523 5\n",
      "507 3\n",
      "512 6\n",
      "515 4\n"
     ]
    }
   ],
   "source": [
    "for s in strains:\n",
    "    print(len(s.seq), s.coverage)"
   ]
  },
  {
   "cell_type": "markdown",
   "metadata": {},
   "source": [
    "### 1.3. Shear the strain genomes into short reads, create de Bruijn graph from k-mers (TODO)"
   ]
  },
  {
   "cell_type": "code",
   "execution_count": null,
   "metadata": {},
   "outputs": [],
   "source": []
  }
 ],
 "metadata": {
  "kernelspec": {
   "display_name": "Python 3",
   "language": "python",
   "name": "python3"
  },
  "language_info": {
   "codemirror_mode": {
    "name": "ipython",
    "version": 3
   },
   "file_extension": ".py",
   "mimetype": "text/x-python",
   "name": "python",
   "nbconvert_exporter": "python",
   "pygments_lexer": "ipython3",
   "version": "3.6.10"
  }
 },
 "nbformat": 4,
 "nbformat_minor": 2
}
