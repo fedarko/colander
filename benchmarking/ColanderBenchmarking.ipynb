{
 "cells": [
  {
   "cell_type": "markdown",
   "metadata": {},
   "source": [
    "# Colander Benchmarking"
   ]
  },
  {
   "cell_type": "code",
   "execution_count": 11,
   "metadata": {},
   "outputs": [],
   "source": [
    "from colander.mock_data_generation.utils import *\n",
    "from colander.estimate import greedy_strain_estimation\n",
    "import networkx as nx"
   ]
  },
  {
   "cell_type": "markdown",
   "metadata": {},
   "source": [
    "Broadly speaking, this process involves a few steps:\n",
    "\n",
    "1. Generate a random \"starting genome\"\n",
    "2. Generate strains\n",
    "3. Shear strains into k-mers then make de Bruijn graph\n",
    "4. Run greedy strain estimation code\n",
    "\n",
    "Of course, genomes in practice are not random sequences of nucleotides -- as chapter 1 of Compeau and Pevzner shows, factors like G/C skew and repetitive regions are examples of nonrandomness in real genomes. This gives us reason to doubt the efficacy of modeling genomes completely randomly, as we do here.\n",
    "\n",
    "That being said, we have to start somewhere."
   ]
  },
  {
   "cell_type": "markdown",
   "metadata": {},
   "source": [
    "## Define parameter sets for how the tests we're going to run\n",
    "\n",
    "The parameters are:\n",
    "\n",
    "- Starting genome length\n",
    "- Strain coverages\n",
    "- *N* parameter (each test runs estimation once for each *N* parameter in its list)\n",
    "\n",
    "(We've kept the k-mer size and hypervariable region settings / mutation rates consistent, but these could of course be adjusted on a per-test basis as well.)"
   ]
  },
  {
   "cell_type": "code",
   "execution_count": 12,
   "metadata": {},
   "outputs": [],
   "source": [
    "tests = [\n",
    "    [1000, [1, 3, 5], [1, 2, 3, 4, 5]],\n",
    "    [1000, [20, 20, 45], [1, 2, 3, 4, 5]],\n",
    "    [1000, [1, 1, 1, 1, 1, 1, 1, 1, 1, 1], [5, 10, 15, 20]],\n",
    "    [10000, [1, 3, 5], [1, 2, 3, 4, 5]],\n",
    "    [10000, [20, 20, 45], [1, 2, 3, 4, 5]],\n",
    "    [10000, [1, 1, 1, 1, 1, 1, 1, 1, 1, 1], [5, 10, 15, 20]]\n",
    "]"
   ]
  },
  {
   "cell_type": "code",
   "execution_count": 13,
   "metadata": {},
   "outputs": [
    {
     "name": "stdout",
     "output_type": "stream",
     "text": [
      "PARAMETER SET 0\n",
      "----------------\n",
      "CycleSet with N = 1 has 1 cycles and conformity score 15237\n",
      "CycleSet with N = 2 has 2 cycles and conformity score 999\n",
      "CycleSet with N = 3 has 3 cycles and conformity score 0\n",
      "CycleSet with N = 4 has 3 cycles and conformity score 0\n",
      "CycleSet with N = 5 has 3 cycles and conformity score 0\n",
      "PARAMETER SET 1\n",
      "----------------\n",
      "CycleSet with N = 1 has 1 cycles and conformity score 1551600\n",
      "CycleSet with N = 2 has 2 cycles and conformity score 400000\n",
      "CycleSet with N = 3 has 3 cycles and conformity score 0\n",
      "CycleSet with N = 4 has 3 cycles and conformity score 0\n",
      "CycleSet with N = 5 has 3 cycles and conformity score 0\n",
      "PARAMETER SET 2\n",
      "----------------\n",
      "CycleSet with N = 5 has 5 cycles and conformity score 1004\n",
      "CycleSet with N = 10 has 6 cycles and conformity score 0\n",
      "CycleSet with N = 15 has 6 cycles and conformity score 0\n",
      "CycleSet with N = 20 has 6 cycles and conformity score 0\n",
      "PARAMETER SET 3\n",
      "----------------\n",
      "CycleSet with N = 1 has 1 cycles and conformity score 152520\n",
      "CycleSet with N = 2 has 2 cycles and conformity score 10005\n",
      "CycleSet with N = 3 has 3 cycles and conformity score 0\n",
      "CycleSet with N = 4 has 3 cycles and conformity score 0\n",
      "CycleSet with N = 5 has 3 cycles and conformity score 0\n",
      "PARAMETER SET 4\n",
      "----------------\n",
      "CycleSet with N = 1 has 1 cycles and conformity score 14916000\n",
      "CycleSet with N = 2 has 2 cycles and conformity score 3996000\n",
      "CycleSet with N = 3 has 3 cycles and conformity score 0\n",
      "CycleSet with N = 4 has 3 cycles and conformity score 0\n",
      "CycleSet with N = 5 has 3 cycles and conformity score 0\n",
      "PARAMETER SET 5\n",
      "----------------\n",
      "CycleSet with N = 5 has 4 cycles and conformity score 248895\n",
      "CycleSet with N = 10 has 4 cycles and conformity score 248895\n",
      "CycleSet with N = 15 has 4 cycles and conformity score 248895\n",
      "CycleSet with N = 20 has 4 cycles and conformity score 248895\n"
     ]
    }
   ],
   "source": [
    "for i in range(len(tests)):\n",
    "    print(\"PARAMETER SET {}\".format(i))\n",
    "    print(\"----------------\".format(i))\n",
    "    glen = tests[i][0]\n",
    "    genome = generate_random_sequence(glen)\n",
    "    \n",
    "    # Define hypervariable regions in the genome: these will undergo more mutations\n",
    "    hv_regions = [(glen // 50, glen // 50 + 100), (glen // 2, glen // 2 + 100)]\n",
    "\n",
    "    strains = generate_strains_from_genome(\n",
    "        genome,\n",
    "        tests[i][1],\n",
    "        hv_regions,\n",
    "        hypervariable_mutation_probability=0.01,\n",
    "        normal_mutation_probability=0.001\n",
    "    )\n",
    "    \n",
    "    kmers = []\n",
    "    for s in strains:\n",
    "        kmers += shear_into_kmers(s.seq, s.coverage, 15)\n",
    "\n",
    "    g = make_debruijn_graph(kmers)\n",
    "\n",
    "    for n in tests[i][2]:\n",
    "        cs = greedy_strain_estimation(g, n)\n",
    "        print(\"CycleSet with N = {} has {} cycles and conformity score {}\".format(\n",
    "            n, len(cs), cs.conformity_score(g)\n",
    "        ))"
   ]
  },
  {
   "cell_type": "code",
   "execution_count": null,
   "metadata": {},
   "outputs": [],
   "source": []
  }
 ],
 "metadata": {
  "kernelspec": {
   "display_name": "Python 3",
   "language": "python",
   "name": "python3"
  },
  "language_info": {
   "codemirror_mode": {
    "name": "ipython",
    "version": 3
   },
   "file_extension": ".py",
   "mimetype": "text/x-python",
   "name": "python",
   "nbconvert_exporter": "python",
   "pygments_lexer": "ipython3",
   "version": "3.6.10"
  }
 },
 "nbformat": 4,
 "nbformat_minor": 2
}
