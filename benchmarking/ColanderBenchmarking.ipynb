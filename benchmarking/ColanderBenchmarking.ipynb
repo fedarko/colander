{
 "cells": [
  {
   "cell_type": "markdown",
   "metadata": {},
   "source": [
    "# Colander Benchmarking"
   ]
  },
  {
   "cell_type": "code",
   "execution_count": 7,
   "metadata": {},
   "outputs": [],
   "source": [
    "from colander.mock_data_generation.utils import *\n",
    "from colander.estimate import greedy_strain_estimation\n",
    "import networkx as nx"
   ]
  },
  {
   "cell_type": "markdown",
   "metadata": {},
   "source": [
    "Broadly speaking, this process involves a few steps:\n",
    "\n",
    "1. Generate a random \"starting genome\"\n",
    "2. Generate strains\n",
    "3. Shear strains into k-mers then make de Bruijn graph\n",
    "4. Run greedy strain estimation code\n",
    "\n",
    "Of course, genomes in practice are not random sequences of nucleotides -- as chapter 1 of Compeau and Pevzner shows, factors like G/C skew and repetitive regions are examples of nonrandomness in real genomes. This gives us reason to doubt the efficacy of modeling genomes completely randomly, as we do here.\n",
    "\n",
    "That being said, we have to start somewhere."
   ]
  },
  {
   "cell_type": "markdown",
   "metadata": {},
   "source": [
    "## Define parameter sets for how the tests we're going to run\n",
    "\n",
    "The parameters are:\n",
    "\n",
    "- Starting genome length\n",
    "- k-mer size in de Bruijn graph construction\n",
    "- Strain coverages\n",
    "\n",
    "(We've kept the mutation rates constant, but these could of course be adjusted on a per-test basis as well.)"
   ]
  },
  {
   "cell_type": "code",
   "execution_count": null,
   "metadata": {},
   "outputs": [],
   "source": [
    "\n",
    "tests =\n",
    "    [1000, "
   ]
  },
  {
   "cell_type": "code",
   "execution_count": 16,
   "metadata": {},
   "outputs": [
    {
     "name": "stdout",
     "output_type": "stream",
     "text": [
      "Three arbitrary k-mers: ['GTGGG', 'TGGGC', 'GGGCA']\n",
      "45022\n",
      "CycleSet with N = 5 has conformity score 468386\n"
     ]
    }
   ],
   "source": [
    "genome = generate_random_sequence(5000)\n",
    "# Define hypervariable regions in the genome: these will undergo more mutations\n",
    "hv_regions = [(100, 150), (200, 250), (3000, 3500)]\n",
    "\n",
    "# What are the \"coverages\" of each strain in the metagenome sequence data?\n",
    "strain_coverages = [1, 3, 5]\n",
    "\n",
    "strains = generate_strains_from_genome(\n",
    "    genome,\n",
    "    strain_coverages,\n",
    "    hv_regions,\n",
    "    hypervariable_mutation_probability=0.01,\n",
    "    normal_mutation_probability=0.001\n",
    ")\n",
    "kmers = []\n",
    "for s in strains:\n",
    "    kmers += shear_into_kmers(s.seq, s.coverage, 5)\n",
    "print(\"Three arbitrary k-mers: {}\".format(kmers[:3]))\n",
    "print(len(kmers))\n",
    "\n",
    "g = make_debruijn_graph(kmers)\n",
    "\n",
    "cs = greedy_strain_estimation(g, 5)\n",
    "print(\"CycleSet with N = 5 has conformity score {}\".format(cs.conformity_score(g)))"
   ]
  },
  {
   "cell_type": "code",
   "execution_count": null,
   "metadata": {},
   "outputs": [],
   "source": []
  }
 ],
 "metadata": {
  "kernelspec": {
   "display_name": "Python 3",
   "language": "python",
   "name": "python3"
  },
  "language_info": {
   "codemirror_mode": {
    "name": "ipython",
    "version": 3
   },
   "file_extension": ".py",
   "mimetype": "text/x-python",
   "name": "python",
   "nbconvert_exporter": "python",
   "pygments_lexer": "ipython3",
   "version": "3.6.10"
  }
 },
 "nbformat": 4,
 "nbformat_minor": 2
}
